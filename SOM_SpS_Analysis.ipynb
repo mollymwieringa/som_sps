{
 "cells": [
  {
   "cell_type": "markdown",
   "metadata": {},
   "source": [
    "# SOM_SpS Analysis"
   ]
  },
  {
   "cell_type": "markdown",
   "metadata": {},
   "source": [
    "### This script is designed to explore the impact of prescribing SST while running the Los Alamos Sea Ice Model (CICE5) within the Community Earth System Model (CESM2), relative to using a slab ocean component.\n",
    "\n",
    "#### Goals: \n",
    "1. Determine when each model run has reached equilibrium\n",
    "2. Examine the reaction of the model to a longwave perturbation in both the prescribed SST(SpS) and slab ocean (SOM) cases\n",
    "3. Investigate how a dynamic atmosphere might communicate the impact of prescribing SST over using a slab ocean\n",
    "\n",
    "#### Setup: \n",
    "\n",
    "There will be 8 experimental cases centered around a slab ocean control run forced with daily initial conditions (dSOMcontrol). Four are dynamic ice + data atmosphere + SOM/SpS and four are dynamic ice + dynamic atmosphere + SOM/SpS. Within each group of four, the SOM/SpS pairs exist as either a control set or a longwave perturbed set.\n",
    "\n",
    "The first part of this notebook will establish the equilibrium point that caps the spin up of each run. \n",
    "\n",
    "The second part will compare between SOM/SpS control and perturbed pairs for the data atmosphere cases.\n",
    "\n",
    "The third part will do the same for the dynamic atmosphere cases.\n",
    "\n",
    "The fourth will attempt to isolate the differences between the data and dynamic atmosphere scenarios. \n",
    "\n",
    "Files used live on NCAR's Cheyenne, in the glade directories of Cecilia Bitz (bitz), Vince Cooper (vcooper), and Molly Wieringa (mollyw)\n",
    "\n",
    "#### In the words of vcooper, greetings! ...and beware."
   ]
  },
  {
   "cell_type": "markdown",
   "metadata": {},
   "source": [
    "### Preliminaries: set up the environment"
   ]
  },
  {
   "cell_type": "code",
   "execution_count": 1,
   "metadata": {},
   "outputs": [],
   "source": [
    "%matplotlib inline\n",
    "\n",
    "# math\n",
    "import numpy as np\n",
    "import numpy.ma as ma\n",
    "import scipy as sc\n",
    "\n",
    "# data\n",
    "import xarray as xr\n",
    "import pandas\n",
    "import os\n",
    "import os.path\n",
    "import nc_time_axis\n",
    "import glob\n",
    "import csv\n",
    "\n",
    "#plotting \n",
    "import matplotlib as mpl \n",
    "import matplotlib.path as mpath\n",
    "from matplotlib import pyplot as plt \n",
    "import cartopy.crs as ccrs\n",
    "import cartopy.feature as cfeature\n",
    "from cartopy.mpl.gridliner import LONGITUDE_FORMATTER, LATITUDE_FORMATTER\n",
    "import cmocean as cmo\n",
    "\n",
    "mpl.rcParams['font.size'] = 16"
   ]
  },
  {
   "cell_type": "markdown",
   "metadata": {},
   "source": [
    "### Part 1: Equilibrium"
   ]
  },
  {
   "cell_type": "code",
   "execution_count": null,
   "metadata": {},
   "outputs": [],
   "source": []
  },
  {
   "cell_type": "markdown",
   "metadata": {
    "slideshow": {
     "slide_type": "fragment"
    }
   },
   "source": [
    "### Part 2: dSOM and dSpS"
   ]
  },
  {
   "cell_type": "code",
   "execution_count": null,
   "metadata": {},
   "outputs": [],
   "source": []
  },
  {
   "cell_type": "markdown",
   "metadata": {},
   "source": [
    "### Part 3: atmSOM and atm SpS"
   ]
  },
  {
   "cell_type": "code",
   "execution_count": null,
   "metadata": {},
   "outputs": [],
   "source": []
  },
  {
   "cell_type": "markdown",
   "metadata": {},
   "source": [
    "### Part 4: AGCM vs DATM"
   ]
  },
  {
   "cell_type": "code",
   "execution_count": null,
   "metadata": {},
   "outputs": [],
   "source": []
  }
 ],
 "metadata": {
  "kernelspec": {
   "display_name": "Python 2",
   "language": "python",
   "name": "python2"
  },
  "language_info": {
   "codemirror_mode": {
    "name": "ipython",
    "version": 2
   },
   "file_extension": ".py",
   "mimetype": "text/x-python",
   "name": "python",
   "nbconvert_exporter": "python",
   "pygments_lexer": "ipython2",
   "version": "2.7.14"
  }
 },
 "nbformat": 4,
 "nbformat_minor": 2
}
